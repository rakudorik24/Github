{
 "cells": [
  {
   "cell_type": "code",
   "execution_count": null,
   "id": "e773bfa8",
   "metadata": {},
   "outputs": [],
   "source": [
    "5+5"
   ]
  },
  {
   "cell_type": "code",
   "execution_count": null,
   "id": "9f472db3",
   "metadata": {},
   "outputs": [],
   "source": [
    "8/2"
   ]
  },
  {
   "cell_type": "code",
   "execution_count": null,
   "id": "1fc4962a",
   "metadata": {},
   "outputs": [],
   "source": [
    "# TITLE"
   ]
  },
  {
   "cell_type": "code",
   "execution_count": null,
   "id": "b300d772",
   "metadata": {},
   "outputs": [],
   "source": [
    "78/5"
   ]
  },
  {
   "cell_type": "code",
   "execution_count": null,
   "id": "8757d7d5",
   "metadata": {},
   "outputs": [],
   "source": [
    "85*2"
   ]
  },
  {
   "cell_type": "code",
   "execution_count": null,
   "id": "56549968",
   "metadata": {},
   "outputs": [],
   "source": [
    "95-52"
   ]
  },
  {
   "cell_type": "markdown",
   "id": "4e1f787c",
   "metadata": {},
   "source": [
    "# TILE"
   ]
  },
  {
   "cell_type": "markdown",
   "id": "af4b2c64",
   "metadata": {},
   "source": [
    "## HEADLINE"
   ]
  },
  {
   "cell_type": "markdown",
   "id": "7b420529",
   "metadata": {},
   "source": [
    "### HEADLINE"
   ]
  },
  {
   "cell_type": "code",
   "execution_count": null,
   "id": "700264fa",
   "metadata": {},
   "outputs": [],
   "source": []
  },
  {
   "cell_type": "code",
   "execution_count": null,
   "id": "3ae50464",
   "metadata": {},
   "outputs": [],
   "source": []
  },
  {
   "cell_type": "code",
   "execution_count": null,
   "id": "77943ec7",
   "metadata": {},
   "outputs": [],
   "source": []
  },
  {
   "cell_type": "code",
   "execution_count": null,
   "id": "201095f6",
   "metadata": {},
   "outputs": [],
   "source": []
  },
  {
   "cell_type": "code",
   "execution_count": null,
   "id": "1a1804dc",
   "metadata": {},
   "outputs": [],
   "source": []
  },
  {
   "cell_type": "code",
   "execution_count": null,
   "id": "d3e28442",
   "metadata": {},
   "outputs": [],
   "source": []
  },
  {
   "cell_type": "code",
   "execution_count": null,
   "id": "8e8b2057",
   "metadata": {},
   "outputs": [],
   "source": []
  }
 ],
 "metadata": {
  "kernelspec": {
   "display_name": "Python 3 (ipykernel)",
   "language": "python",
   "name": "python3"
  },
  "language_info": {
   "codemirror_mode": {
    "name": "ipython",
    "version": 3
   },
   "file_extension": ".py",
   "mimetype": "text/x-python",
   "name": "python",
   "nbconvert_exporter": "python",
   "pygments_lexer": "ipython3",
   "version": "3.9.12"
  }
 },
 "nbformat": 4,
 "nbformat_minor": 5
}
